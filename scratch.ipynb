{
 "cells": [
  {
   "cell_type": "code",
   "execution_count": 2,
   "id": "e4903b5c",
   "metadata": {},
   "outputs": [
    {
     "name": "stdout",
     "output_type": "stream",
     "text": [
      "[2, 4, 6, 8, 10]\n",
      "[{'x': 1, 'y': 2}, {'x': 2, 'y': 4}, {'x': 3, 'y': 6}, {'x': 4, 'y': 8}, {'x': 5, 'y': 10}]\n"
     ]
    }
   ],
   "source": [
    "# JS: array.map(x => x * 2)\n",
    "# Python:\n",
    "numbers = [1, 2, 3, 4, 5]\n",
    "\n",
    "# Using map()\n",
    "result = list(map(lambda x: x * 2, numbers))\n",
    "print(result)  # [2, 4, 6, 8, 10]\n",
    "\n",
    "# List comprehension (more Pythonic)\n",
    "result = [{'x': x, \"y\": x*2} for x in numbers]\n",
    "print(result)  # [2, 4, 6, 8, 10]"
   ]
  },
  {
   "cell_type": "code",
   "execution_count": null,
   "id": "8e82a86f",
   "metadata": {},
   "outputs": [
    {
     "name": "stdout",
     "output_type": "stream",
     "text": [
      "[{'char': ' ', 'num': 70454}, {'char': 'e', 'num': 44538}, {'char': 't', 'num': 29493}, {'char': 'a', 'num': 25894}, {'char': 'o', 'num': 24494}, {'char': 'i', 'num': 23927}, {'char': 'n', 'num': 23643}, {'char': 's', 'num': 20360}, {'char': 'r', 'num': 20079}, {'char': 'h', 'num': 19176}, {'char': 'd', 'num': 16318}, {'char': 'l', 'num': 12306}, {'char': 'm', 'num': 10206}, {'char': 'u', 'num': 10111}, {'char': 'c', 'num': 9011}, {'char': 'f', 'num': 8451}, {'char': 'y', 'num': 7756}, {'char': '\\n', 'num': 7629}, {'char': 'w', 'num': 7450}, {'char': ',', 'num': 5962}, {'char': 'p', 'num': 5952}, {'char': 'g', 'num': 5795}, {'char': 'b', 'num': 4868}, {'char': 'v', 'num': 3737}, {'char': '.', 'num': 3121}, {'char': 'k', 'num': 1661}, {'char': ';', 'num': 1350}, {'char': 'x', 'num': 691}, {'char': '“', 'num': 506}, {'char': 'j', 'num': 497}, {'char': 'q', 'num': 325}, {'char': '”', 'num': 316}, {'char': 'z', 'num': 235}, {'char': ':', 'num': 211}, {'char': '?', 'num': 208}, {'char': '!', 'num': 201}, {'char': '-', 'num': 173}, {'char': '’', 'num': 144}, {'char': '_', 'num': 124}, {'char': '—', 'num': 123}, {'char': '*', 'num': 97}, {'char': '1', 'num': 91}, {'char': '™', 'num': 57}, {'char': '‘', 'num': 43}, {'char': '(', 'num': 35}, {'char': ')', 'num': 35}, {'char': 'æ', 'num': 28}, {'char': '8', 'num': 24}, {'char': '2', 'num': 19}, {'char': '0', 'num': 18}, {'char': '7', 'num': 18}, {'char': '3', 'num': 15}, {'char': '4', 'num': 12}, {'char': '5', 'num': 12}, {'char': '6', 'num': 9}, {'char': '9', 'num': 9}, {'char': '/', 'num': 8}, {'char': 'â', 'num': 8}, {'char': 'ê', 'num': 7}, {'char': '&', 'num': 5}, {'char': '•', 'num': 4}, {'char': '[', 'num': 2}, {'char': ']', 'num': 2}, {'char': 'ë', 'num': 2}, {'char': '$', 'num': 2}, {'char': '#', 'num': 1}, {'char': 'ô', 'num': 1}, {'char': '%', 'num': 1}]\n"
     ]
    }
   ],
   "source": [
    "from stats import get_num_words, get_char_counts\n",
    "\n",
    "def get_book_text(file_path):\n",
    "    with open(file_path) as f:\n",
    "        content = f.read()\n",
    "    return content\n",
    "\n",
    "def main():\n",
    "    path = \"books/frankenstein.txt\"\n",
    "    book_text = get_book_text(path)\n",
    "    num_words = get_num_words(book_text)\n",
    "    char_counts = get_char_counts(book_text)\n",
    "    char_count_dicts = [{'char':char, 'num': num} for char, num in char_counts.items()]\n",
    "    char_count_dicts.sort(key=lambda x: x['num'], reverse=True)\n",
    "    print(char_count_dicts)\n",
    "\n",
    "main()\n"
   ]
  },
  {
   "cell_type": "code",
   "execution_count": null,
   "id": "0f3ffe48",
   "metadata": {},
   "outputs": [],
   "source": [
    "# Python 3.11+ has better support\n",
    "from typing import Literal\n",
    "\n",
    "Theme = Literal[\"light\", \"dark\", \"auto\"]  # Unpacking works!\n",
    "\n",
    "allowed_themes: list[Theme] = [\"light\", \"dark\", \"light\"]\n",
    "\n",
    "my_theme: Theme = \"auto\""
   ]
  }
 ],
 "metadata": {
  "kernelspec": {
   "display_name": ".venv",
   "language": "python",
   "name": "python3"
  },
  "language_info": {
   "codemirror_mode": {
    "name": "ipython",
    "version": 3
   },
   "file_extension": ".py",
   "mimetype": "text/x-python",
   "name": "python",
   "nbconvert_exporter": "python",
   "pygments_lexer": "ipython3",
   "version": "3.13.3"
  }
 },
 "nbformat": 4,
 "nbformat_minor": 5
}
